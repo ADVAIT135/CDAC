{
 "cells": [
  {
   "cell_type": "markdown",
   "id": "9c9c796a-2156-4cd5-8f36-b5ed8e43612b",
   "metadata": {},
   "source": [
    "# <U>Name :</u> ADVAIT GURUNATH CHAVAN\n",
    "# <u>EMAIL :</u> advaitchavan135@gmail.com\n",
    "# CDAC NODIA PGDAI -- DATA ANALYTICS -- ASSIGNMENT -- 4"
   ]
  },
  {
   "attachments": {
    "e1ef70d3-93d1-4e4c-9c59-b60e7a746106.png": {
     "image/png": "[encoded data removed]"
    }
   },
   "cell_type": "markdown",
   "id": "9804f315-f00c-44cc-9af4-b4c8af30bc9a",
   "metadata": {},
   "source": [
    "![image.png](attachment:e1ef70d3-93d1-4e4c-9c59-b60e7a746106.png)"
   ]
  },
  {
   "cell_type": "code",
   "execution_count": 1,
   "id": "432bd343-68df-4974-9615-b897f555a209",
   "metadata": {},
   "outputs": [],
   "source": [
    "import pandas as pd"
   ]
  },
  {
   "cell_type": "code",
   "execution_count": 2,
   "id": "aa6303d6-7df4-41ce-a99c-4873542eee41",
   "metadata": {},
   "outputs": [
    {
     "name": "stdout",
     "output_type": "stream",
     "text": [
      "Initial DataFrame Info:\n",
      "<class 'pandas.core.frame.DataFrame'>\n",
      "RangeIndex: 12 entries, 0 to 11\n",
      "Data columns (total 17 columns):\n",
      " #   Column                     Non-Null Count  Dtype  \n",
      "---  ------                     --------------  -----  \n",
      " 0   movie_title                12 non-null     object \n",
      " 1   num_critic_for_reviews     12 non-null     int64  \n",
      " 2   duration                   12 non-null     float64\n",
      " 3   DIRECTOR_facebook_likes    9 non-null      float64\n",
      " 4   actor_3_facebook_likes     12 non-null     int64  \n",
      " 5   ACTOR_1_facebook_likes     12 non-null     int64  \n",
      " 6   gross                      12 non-null     int64  \n",
      " 7   num_voted_users            11 non-null     float64\n",
      " 8   Cast_Total_facebook_likes  12 non-null     float64\n",
      " 9   facenumber_in_poster       12 non-null     float64\n",
      " 10  num_user_for_reviews       12 non-null     int64  \n",
      " 11  budget                     12 non-null     int64  \n",
      " 12  title_year                 12 non-null     int64  \n",
      " 13  ACTOR_2_facebook_likes     12 non-null     float64\n",
      " 14  imdb_score                 12 non-null     float64\n",
      " 15  gross_outlier              12 non-null     bool   \n",
      " 16  profit                     12 non-null     int64  \n",
      "dtypes: bool(1), float64(7), int64(8), object(1)\n",
      "memory usage: 1.6+ KB\n",
      "None\n"
     ]
    }
   ],
   "source": [
    "df = pd.read_csv(\"Cleaned_data.csv\", encoding=\"ISO-8859-1\")\n",
    "print(\"Initial DataFrame Info:\")\n",
    "print(df.info())"
   ]
  },
  {
   "cell_type": "code",
   "execution_count": 3,
   "id": "4a102b64-d48a-45de-ac1c-31f9a468c0e2",
   "metadata": {},
   "outputs": [
    {
     "data": {
      "text/html": [
       "<div>\n",
       "<style scoped>\n",
       "    .dataframe tbody tr th:only-of-type {\n",
       "        vertical-align: middle;\n",
       "    }\n",
       "\n",
       "    .dataframe tbody tr th {\n",
       "        vertical-align: top;\n",
       "    }\n",
       "\n",
       "    .dataframe thead th {\n",
       "        text-align: right;\n",
       "    }\n",
       "</style>\n",
       "<table border=\"1\" class=\"dataframe\">\n",
       "  <thead>\n",
       "    <tr style=\"text-align: right;\">\n",
       "      <th></th>\n",
       "      <th>num_critic_for_reviews</th>\n",
       "      <th>duration</th>\n",
       "      <th>DIRECTOR_facebook_likes</th>\n",
       "      <th>actor_3_facebook_likes</th>\n",
       "      <th>ACTOR_1_facebook_likes</th>\n",
       "      <th>gross</th>\n",
       "      <th>num_voted_users</th>\n",
       "      <th>Cast_Total_facebook_likes</th>\n",
       "      <th>facenumber_in_poster</th>\n",
       "      <th>num_user_for_reviews</th>\n",
       "      <th>budget</th>\n",
       "      <th>title_year</th>\n",
       "      <th>ACTOR_2_facebook_likes</th>\n",
       "      <th>imdb_score</th>\n",
       "      <th>profit</th>\n",
       "    </tr>\n",
       "  </thead>\n",
       "  <tbody>\n",
       "    <tr>\n",
       "      <th>count</th>\n",
       "      <td>12.000000</td>\n",
       "      <td>12.000000</td>\n",
       "      <td>9.000000</td>\n",
       "      <td>12.000000</td>\n",
       "      <td>12.000000</td>\n",
       "      <td>1.200000e+01</td>\n",
       "      <td>1.100000e+01</td>\n",
       "      <td>12.000000</td>\n",
       "      <td>12.000000</td>\n",
       "      <td>12.000000</td>\n",
       "      <td>1.200000e+01</td>\n",
       "      <td>12.000000</td>\n",
       "      <td>12.000000</td>\n",
       "      <td>12.000000</td>\n",
       "      <td>1.200000e+01</td>\n",
       "    </tr>\n",
       "    <tr>\n",
       "      <th>mean</th>\n",
       "      <td>477.333333</td>\n",
       "      <td>149.583333</td>\n",
       "      <td>2652.333333</td>\n",
       "      <td>5189.250000</td>\n",
       "      <td>18990.833333</td>\n",
       "      <td>2.875561e+08</td>\n",
       "      <td>4.235617e+05</td>\n",
       "      <td>44379.916667</td>\n",
       "      <td>1.750000</td>\n",
       "      <td>1542.500000</td>\n",
       "      <td>2.467250e+08</td>\n",
       "      <td>2010.250000</td>\n",
       "      <td>7749.166667</td>\n",
       "      <td>7.083333</td>\n",
       "      <td>4.083111e+07</td>\n",
       "    </tr>\n",
       "    <tr>\n",
       "      <th>std</th>\n",
       "      <td>164.595556</td>\n",
       "      <td>18.710514</td>\n",
       "      <td>7259.105420</td>\n",
       "      <td>7921.303544</td>\n",
       "      <td>13978.653836</td>\n",
       "      <td>1.211615e+08</td>\n",
       "      <td>2.588885e+05</td>\n",
       "      <td>32294.908097</td>\n",
       "      <td>0.917011</td>\n",
       "      <td>819.263916</td>\n",
       "      <td>2.620545e+07</td>\n",
       "      <td>3.671141</td>\n",
       "      <td>7789.470852</td>\n",
       "      <td>0.684681</td>\n",
       "      <td>1.207874e+08</td>\n",
       "    </tr>\n",
       "    <tr>\n",
       "      <th>min</th>\n",
       "      <td>302.000000</td>\n",
       "      <td>106.000000</td>\n",
       "      <td>10.000000</td>\n",
       "      <td>161.000000</td>\n",
       "      <td>451.000000</td>\n",
       "      <td>7.305868e+07</td>\n",
       "      <td>2.122040e+05</td>\n",
       "      <td>1873.000000</td>\n",
       "      <td>1.000000</td>\n",
       "      <td>387.000000</td>\n",
       "      <td>2.000000e+08</td>\n",
       "      <td>2006.000000</td>\n",
       "      <td>393.000000</td>\n",
       "      <td>6.100000</td>\n",
       "      <td>-1.906413e+08</td>\n",
       "    </tr>\n",
       "    <tr>\n",
       "      <th>25%</th>\n",
       "      <td>362.250000</td>\n",
       "      <td>146.250000</td>\n",
       "      <td>20.000000</td>\n",
       "      <td>495.750000</td>\n",
       "      <td>8449.750000</td>\n",
       "      <td>2.000730e+08</td>\n",
       "      <td>2.853390e+05</td>\n",
       "      <td>21262.500000</td>\n",
       "      <td>1.000000</td>\n",
       "      <td>988.750000</td>\n",
       "      <td>2.400000e+08</td>\n",
       "      <td>2007.000000</td>\n",
       "      <td>612.250000</td>\n",
       "      <td>6.675000</td>\n",
       "      <td>-3.495514e+07</td>\n",
       "    </tr>\n",
       "    <tr>\n",
       "      <th>50%</th>\n",
       "      <td>418.500000</td>\n",
       "      <td>152.000000</td>\n",
       "      <td>282.000000</td>\n",
       "      <td>1000.000000</td>\n",
       "      <td>21000.000000</td>\n",
       "      <td>3.056806e+08</td>\n",
       "      <td>3.307840e+05</td>\n",
       "      <td>46055.000000</td>\n",
       "      <td>1.500000</td>\n",
       "      <td>1240.500000</td>\n",
       "      <td>2.500000e+08</td>\n",
       "      <td>2009.500000</td>\n",
       "      <td>5000.000000</td>\n",
       "      <td>7.000000</td>\n",
       "      <td>3.068057e+07</td>\n",
       "    </tr>\n",
       "    <tr>\n",
       "      <th>75%</th>\n",
       "      <td>610.250000</td>\n",
       "      <td>153.750000</td>\n",
       "      <td>563.000000</td>\n",
       "      <td>5500.000000</td>\n",
       "      <td>26250.000000</td>\n",
       "      <td>3.581559e+08</td>\n",
       "      <td>4.669445e+05</td>\n",
       "      <td>51052.750000</td>\n",
       "      <td>2.000000</td>\n",
       "      <td>2018.250000</td>\n",
       "      <td>2.585000e+08</td>\n",
       "      <td>2012.750000</td>\n",
       "      <td>11000.000000</td>\n",
       "      <td>7.500000</td>\n",
       "      <td>1.096950e+08</td>\n",
       "    </tr>\n",
       "    <tr>\n",
       "      <th>max</th>\n",
       "      <td>813.000000</td>\n",
       "      <td>183.000000</td>\n",
       "      <td>22000.000000</td>\n",
       "      <td>23000.000000</td>\n",
       "      <td>40000.000000</td>\n",
       "      <td>4.589916e+08</td>\n",
       "      <td>1.144337e+06</td>\n",
       "      <td>106759.000000</td>\n",
       "      <td>4.000000</td>\n",
       "      <td>3018.000000</td>\n",
       "      <td>3.000000e+08</td>\n",
       "      <td>2016.000000</td>\n",
       "      <td>23000.000000</td>\n",
       "      <td>8.500000</td>\n",
       "      <td>2.089916e+08</td>\n",
       "    </tr>\n",
       "  </tbody>\n",
       "</table>\n",
       "</div>"
      ],
      "text/plain": [
       "       num_critic_for_reviews    duration  DIRECTOR_facebook_likes  \\\n",
       "count               12.000000   12.000000                 9.000000   \n",
       "mean               477.333333  149.583333              2652.333333   \n",
       "std                164.595556   18.710514              7259.105420   \n",
       "min                302.000000  106.000000                10.000000   \n",
       "25%                362.250000  146.250000                20.000000   \n",
       "50%                418.500000  152.000000               282.000000   \n",
       "75%                610.250000  153.750000               563.000000   \n",
       "max                813.000000  183.000000             22000.000000   \n",
       "\n",
       "       actor_3_facebook_likes  ACTOR_1_facebook_likes         gross  \\\n",
       "count               12.000000               12.000000  1.200000e+01   \n",
       "mean              5189.250000            18990.833333  2.875561e+08   \n",
       "std               7921.303544            13978.653836  1.211615e+08   \n",
       "min                161.000000              451.000000  7.305868e+07   \n",
       "25%                495.750000             8449.750000  2.000730e+08   \n",
       "50%               1000.000000            21000.000000  3.056806e+08   \n",
       "75%               5500.000000            26250.000000  3.581559e+08   \n",
       "max              23000.000000            40000.000000  4.589916e+08   \n",
       "\n",
       "       num_voted_users  Cast_Total_facebook_likes  facenumber_in_poster  \\\n",
       "count     1.100000e+01                  12.000000             12.000000   \n",
       "mean      4.235617e+05               44379.916667              1.750000   \n",
       "std       2.588885e+05               32294.908097              0.917011   \n",
       "min       2.122040e+05                1873.000000              1.000000   \n",
       "25%       2.853390e+05               21262.500000              1.000000   \n",
       "50%       3.307840e+05               46055.000000              1.500000   \n",
       "75%       4.669445e+05               51052.750000              2.000000   \n",
       "max       1.144337e+06              106759.000000              4.000000   \n",
       "\n",
       "       num_user_for_reviews        budget   title_year  \\\n",
       "count             12.000000  1.200000e+01    12.000000   \n",
       "mean            1542.500000  2.467250e+08  2010.250000   \n",
       "std              819.263916  2.620545e+07     3.671141   \n",
       "min              387.000000  2.000000e+08  2006.000000   \n",
       "25%              988.750000  2.400000e+08  2007.000000   \n",
       "50%             1240.500000  2.500000e+08  2009.500000   \n",
       "75%             2018.250000  2.585000e+08  2012.750000   \n",
       "max             3018.000000  3.000000e+08  2016.000000   \n",
       "\n",
       "       ACTOR_2_facebook_likes  imdb_score        profit  \n",
       "count               12.000000   12.000000  1.200000e+01  \n",
       "mean              7749.166667    7.083333  4.083111e+07  \n",
       "std               7789.470852    0.684681  1.207874e+08  \n",
       "min                393.000000    6.100000 -1.906413e+08  \n",
       "25%                612.250000    6.675000 -3.495514e+07  \n",
       "50%               5000.000000    7.000000  3.068057e+07  \n",
       "75%              11000.000000    7.500000  1.096950e+08  \n",
       "max              23000.000000    8.500000  2.089916e+08  "
      ]
     },
     "execution_count": 3,
     "metadata": {},
     "output_type": "execute_result"
    }
   ],
   "source": [
    "df.describe()"
   ]
  },
  {
   "cell_type": "markdown",
   "id": "93441619-2464-48a9-8b99-4b31173cb080",
   "metadata": {},
   "source": [
    "### A. Remove duplicate columns and rows if any"
   ]
  },
  {
   "cell_type": "code",
   "execution_count": 4,
   "id": "1f440e28-638f-4f95-a3fc-0cb6401197a3",
   "metadata": {},
   "outputs": [],
   "source": [
    "if \"title_year.1\" in df.columns:\n",
    "    # Convert both to numeric to compare\n",
    "    df[\"title_year\"] = pd.to_numeric(df[\"title_year\"], errors=\"coerce\")\n",
    "    df[\"title_year.1\"] = pd.to_numeric(df[\"title_year.1\"], errors=\"coerce\")\n",
    "    \n",
    "    # Check if they are identical\n",
    "    if df[\"title_year\"].equals(df[\"title_year.1\"]):\n",
    "        df.drop(\"title_year.1\", axis=1, inplace=True)\n",
    "        print(\"Dropped duplicate column: title_year.1\")\n",
    "    else:\n",
    "        # Alternatively, choose the non-missing values (or take an average, etc.)\n",
    "        df[\"title_year\"] = df[\"title_year\"].fillna(df[\"title_year.1\"])\n",
    "        df.drop(\"title_year.1\", axis=1, inplace=True)\n",
    "        print(\"Merged title_year and dropped title_year.1\")"
   ]
  },
  {
   "cell_type": "code",
   "execution_count": 5,
   "id": "2ca0e99b-4031-4b49-af08-787d7a325daa",
   "metadata": {},
   "outputs": [
    {
     "name": "stdout",
     "output_type": "stream",
     "text": [
      "\n",
      "After removing duplicate rows:\n",
      "(12, 17)\n"
     ]
    }
   ],
   "source": [
    "df.drop_duplicates(inplace=True)\n",
    "df.reset_index(drop=True, inplace=True)\n",
    "print(\"\\nAfter removing duplicate rows:\")\n",
    "print(df.shape)"
   ]
  },
  {
   "cell_type": "markdown",
   "id": "9f9b0644-df18-4fb2-b470-a657f9b92c0e",
   "metadata": {},
   "source": [
    "### B. Clean Textual Columns"
   ]
  },
  {
   "cell_type": "code",
   "execution_count": 6,
   "id": "3ac5a124-049c-4eb2-9741-975ed5b1d897",
   "metadata": {},
   "outputs": [],
   "source": [
    "df[\"movie_title\"] = df[\"movie_title\"].str.strip()"
   ]
  },
  {
   "cell_type": "markdown",
   "id": "0eaf7fde-e073-413c-81c9-e122e03003f3",
   "metadata": {},
   "source": [
    "### C. Clean and standardize Numeric Data "
   ]
  },
  {
   "cell_type": "code",
   "execution_count": 7,
   "id": "813e1a73-2ef0-4a41-991b-2a46ef8cbd5d",
   "metadata": {},
   "outputs": [
    {
     "name": "stdout",
     "output_type": "stream",
     "text": [
      "Filled missing 'Cast_Total_facebook_likes' with median value: 46055.0\n",
      "Filled missing 'ACTOR_2_facebook_likes' with median value: 5000.0\n"
     ]
    },
    {
     "name": "stderr",
     "output_type": "stream",
     "text": [
      "C:\\Users\\Advait\\AppData\\Local\\Temp\\ipykernel_4924\\927347860.py:5: FutureWarning: A value is trying to be set on a copy of a DataFrame or Series through chained assignment using an inplace method.\n",
      "The behavior will change in pandas 3.0. This inplace method will never work because the intermediate object on which we are setting values always behaves as a copy.\n",
      "\n",
      "For example, when doing 'df[col].method(value, inplace=True)', try using 'df.method({col: value}, inplace=True)' or df[col] = df[col].method(value) instead, to perform the operation inplace on the original object.\n",
      "\n",
      "\n",
      "  df[col].fillna(median_val, inplace=True)\n"
     ]
    }
   ],
   "source": [
    "num_cols_to_fill = [\"Cast_Total_facebook_likes\", \"ACTOR_2_facebook_likes\"]\n",
    "for col in num_cols_to_fill:\n",
    "    if col in df.columns:\n",
    "        median_val = df[col].median()\n",
    "        df[col].fillna(median_val, inplace=True)\n",
    "        print(f\"Filled missing '{col}' with median value: {median_val}\")"
   ]
  },
  {
   "cell_type": "code",
   "execution_count": 8,
   "id": "9e59e780-fa86-4a98-9193-0e1ce1c5b406",
   "metadata": {},
   "outputs": [],
   "source": [
    "numeric_cols = [\n",
    "    \"num_critic_for_reviews\", \"duration\", \"DIRECTOR_facebook_likes\",\n",
    "    \"actor_3_facebook_likes\", \"ACTOR_1_facebook_likes\", \"gross\",\n",
    "    \"num_voted_users\", \"Cast_Total_facebook_likes\", \"facenumber_in_poster\",\n",
    "    \"num_user_for_reviews\", \"budget\", \"title_year\", \"ACTOR_2_facebook_likes\", \"imdb_score\"\n",
    "]\n",
    "for col in numeric_cols:\n",
    "    if col in df.columns:\n",
    "        df[col] = pd.to_numeric(df[col], errors='coerce')"
   ]
  },
  {
   "cell_type": "markdown",
   "id": "38a15cc0-d2c3-4dd9-ba78-9aed62cbc6db",
   "metadata": {},
   "source": [
    "### D. Handling Missing Values"
   ]
  },
  {
   "cell_type": "code",
   "execution_count": 9,
   "id": "28111808-dc3a-4c4d-a3b8-fa36f0ffcf3b",
   "metadata": {},
   "outputs": [
    {
     "name": "stdout",
     "output_type": "stream",
     "text": [
      "\n",
      "Missing Values Before Filling:\n",
      "movie_title                  0\n",
      "num_critic_for_reviews       0\n",
      "duration                     0\n",
      "DIRECTOR_facebook_likes      3\n",
      "actor_3_facebook_likes       0\n",
      "ACTOR_1_facebook_likes       0\n",
      "gross                        0\n",
      "num_voted_users              1\n",
      "Cast_Total_facebook_likes    0\n",
      "facenumber_in_poster         0\n",
      "num_user_for_reviews         0\n",
      "budget                       0\n",
      "title_year                   0\n",
      "ACTOR_2_facebook_likes       0\n",
      "imdb_score                   0\n",
      "gross_outlier                0\n",
      "profit                       0\n",
      "dtype: int64\n"
     ]
    }
   ],
   "source": [
    "print(\"\\nMissing Values Before Filling:\")\n",
    "print(df.isnull().sum())"
   ]
  },
  {
   "cell_type": "code",
   "execution_count": 10,
   "id": "60c41df9-5a3d-49b3-95d8-a0496fb54cb9",
   "metadata": {},
   "outputs": [
    {
     "name": "stderr",
     "output_type": "stream",
     "text": [
      "C:\\Users\\Advait\\AppData\\Local\\Temp\\ipykernel_4924\\1291819138.py:3: FutureWarning: A value is trying to be set on a copy of a DataFrame or Series through chained assignment using an inplace method.\n",
      "The behavior will change in pandas 3.0. This inplace method will never work because the intermediate object on which we are setting values always behaves as a copy.\n",
      "\n",
      "For example, when doing 'df[col].method(value, inplace=True)', try using 'df.method({col: value}, inplace=True)' or df[col] = df[col].method(value) instead, to perform the operation inplace on the original object.\n",
      "\n",
      "\n",
      "  df[\"duration\"].fillna(duration_median, inplace=True)\n",
      "C:\\Users\\Advait\\AppData\\Local\\Temp\\ipykernel_4924\\1291819138.py:7: FutureWarning: A value is trying to be set on a copy of a DataFrame or Series through chained assignment using an inplace method.\n",
      "The behavior will change in pandas 3.0. This inplace method will never work because the intermediate object on which we are setting values always behaves as a copy.\n",
      "\n",
      "For example, when doing 'df[col].method(value, inplace=True)', try using 'df.method({col: value}, inplace=True)' or df[col] = df[col].method(value) instead, to perform the operation inplace on the original object.\n",
      "\n",
      "\n",
      "  df[\"facenumber_in_poster\"].fillna(facenumber_median, inplace=True)\n"
     ]
    }
   ],
   "source": [
    "if \"duration\" in df.columns:\n",
    "    duration_median = df[\"duration\"].median()\n",
    "    df[\"duration\"].fillna(duration_median, inplace=True)\n",
    "\n",
    "if \"facenumber_in_poster\" in df.columns:\n",
    "    facenumber_median = df[\"facenumber_in_poster\"].median()\n",
    "    df[\"facenumber_in_poster\"].fillna(facenumber_median, inplace=True)"
   ]
  },
  {
   "cell_type": "code",
   "execution_count": 11,
   "id": "b9a00698-5b9e-4ed6-b4f8-8c58f74595a8",
   "metadata": {},
   "outputs": [
    {
     "name": "stdout",
     "output_type": "stream",
     "text": [
      "\n",
      "Missing values summary:\n",
      " movie_title                  0\n",
      "num_critic_for_reviews       0\n",
      "duration                     0\n",
      "DIRECTOR_facebook_likes      3\n",
      "actor_3_facebook_likes       0\n",
      "ACTOR_1_facebook_likes       0\n",
      "gross                        0\n",
      "num_voted_users              1\n",
      "Cast_Total_facebook_likes    0\n",
      "facenumber_in_poster         0\n",
      "num_user_for_reviews         0\n",
      "budget                       0\n",
      "title_year                   0\n",
      "ACTOR_2_facebook_likes       0\n",
      "imdb_score                   0\n",
      "gross_outlier                0\n",
      "profit                       0\n",
      "dtype: int64\n"
     ]
    }
   ],
   "source": [
    "missing_summary = df.isnull().sum()\n",
    "print(\"\\nMissing values summary:\\n\", missing_summary)"
   ]
  },
  {
   "cell_type": "markdown",
   "id": "3f31be36-f92c-446e-9371-2414fc9299a2",
   "metadata": {},
   "source": [
    "### E. Remove Duplicate rows"
   ]
  },
  {
   "cell_type": "code",
   "execution_count": 12,
   "id": "38582c2a-671e-4244-bf67-ebd742f629b7",
   "metadata": {},
   "outputs": [],
   "source": [
    "df.drop_duplicates(inplace=True)\n",
    "df.reset_index(drop=True, inplace=True)"
   ]
  },
  {
   "cell_type": "markdown",
   "id": "921accbd-0d79-4206-bbfa-6a4ae5bf67bc",
   "metadata": {},
   "source": [
    "### F. Perfoming some more Data Cleaning"
   ]
  },
  {
   "cell_type": "code",
   "execution_count": 13,
   "id": "b4a614c3-8e0d-4cd9-8ced-96a92f3dd888",
   "metadata": {},
   "outputs": [],
   "source": [
    "if \"title_year\" in df.columns and \"title_year.1\" in df.columns:\n",
    "    identical = df[\"title_year\"].equals(df[\"title_year.1\"])\n",
    "    print(\"Are 'title_year' and 'title_year.1' identical? : \", identical)\n",
    "    df.drop(\"title_year.1\", axis=1, inplace=True)"
   ]
  },
  {
   "cell_type": "code",
   "execution_count": 14,
   "id": "8da8661c-dfd1-4b82-9269-9469ab4f4fe1",
   "metadata": {},
   "outputs": [],
   "source": [
    "gross_q1 = df[\"gross\"].quantile(0.25)\n",
    "gross_q3 = df[\"gross\"].quantile(0.75)\n",
    "gross_iqr = gross_q3 - gross_q1\n",
    "lower_bound = gross_q1 - 1.5 * gross_iqr\n",
    "upper_bound = gross_q3 + 1.5 * gross_iqr"
   ]
  },
  {
   "cell_type": "code",
   "execution_count": 15,
   "id": "dc251084-af05-4455-8cdc-0d59d8813f96",
   "metadata": {},
   "outputs": [
    {
     "name": "stdout",
     "output_type": "stream",
     "text": [
      "\n",
      "Number of outliers in 'gross': 0\n"
     ]
    }
   ],
   "source": [
    "df[\"gross_outlier\"] = ((df[\"gross\"] < lower_bound) | (df[\"gross\"] > upper_bound))\n",
    "outliers_count = df[\"gross_outlier\"].sum()\n",
    "print(f\"\\nNumber of outliers in 'gross': {outliers_count}\")"
   ]
  },
  {
   "cell_type": "code",
   "execution_count": 16,
   "id": "c8e10521-765c-47cb-8e77-a6488b09f4d8",
   "metadata": {},
   "outputs": [],
   "source": [
    "df = df[~df[\"gross_outlier\"]]"
   ]
  },
  {
   "cell_type": "code",
   "execution_count": 17,
   "id": "7c0c4087-1d5f-4ff5-a0d2-1e361e73aaa4",
   "metadata": {},
   "outputs": [],
   "source": [
    "df[\"profit\"] = df[\"gross\"] - df[\"budget\"]"
   ]
  },
  {
   "cell_type": "code",
   "execution_count": 18,
   "id": "9e1fbe60-d3a9-45b7-b50d-1ae61093a484",
   "metadata": {},
   "outputs": [
    {
     "name": "stdout",
     "output_type": "stream",
     "text": [
      "\n",
      "Missing Values After Cleaning:\n",
      "movie_title                  0\n",
      "num_critic_for_reviews       0\n",
      "duration                     0\n",
      "DIRECTOR_facebook_likes      3\n",
      "actor_3_facebook_likes       0\n",
      "ACTOR_1_facebook_likes       0\n",
      "gross                        0\n",
      "num_voted_users              1\n",
      "Cast_Total_facebook_likes    0\n",
      "facenumber_in_poster         0\n",
      "num_user_for_reviews         0\n",
      "budget                       0\n",
      "title_year                   0\n",
      "ACTOR_2_facebook_likes       0\n",
      "imdb_score                   0\n",
      "gross_outlier                0\n",
      "profit                       0\n",
      "dtype: int64\n"
     ]
    }
   ],
   "source": [
    "print(\"\\nMissing Values After Cleaning:\")\n",
    "print(df.isnull().sum())"
   ]
  },
  {
   "cell_type": "code",
   "execution_count": null,
   "id": "ce62d15a-f816-4c83-a51d-b24ed4bcd050",
   "metadata": {},
   "outputs": [],
   "source": []
  },
  {
   "cell_type": "markdown",
   "id": "179dcdd4-b069-4b61-97a5-b62df9201dac",
   "metadata": {},
   "source": [
    "### G. Explore the Cleaned data set"
   ]
  },
  {
   "cell_type": "code",
   "execution_count": 19,
   "id": "6e1c4960-a92e-40aa-b791-b1731f16f1bd",
   "metadata": {},
   "outputs": [
    {
     "name": "stdout",
     "output_type": "stream",
     "text": [
      "\n",
      "Cleaned DataFrame head:\n"
     ]
    },
    {
     "data": {
      "text/html": [
       "<div>\n",
       "<style scoped>\n",
       "    .dataframe tbody tr th:only-of-type {\n",
       "        vertical-align: middle;\n",
       "    }\n",
       "\n",
       "    .dataframe tbody tr th {\n",
       "        vertical-align: top;\n",
       "    }\n",
       "\n",
       "    .dataframe thead th {\n",
       "        text-align: right;\n",
       "    }\n",
       "</style>\n",
       "<table border=\"1\" class=\"dataframe\">\n",
       "  <thead>\n",
       "    <tr style=\"text-align: right;\">\n",
       "      <th></th>\n",
       "      <th>movie_title</th>\n",
       "      <th>num_critic_for_reviews</th>\n",
       "      <th>duration</th>\n",
       "      <th>DIRECTOR_facebook_likes</th>\n",
       "      <th>actor_3_facebook_likes</th>\n",
       "      <th>ACTOR_1_facebook_likes</th>\n",
       "      <th>gross</th>\n",
       "      <th>num_voted_users</th>\n",
       "      <th>Cast_Total_facebook_likes</th>\n",
       "      <th>facenumber_in_poster</th>\n",
       "      <th>num_user_for_reviews</th>\n",
       "      <th>budget</th>\n",
       "      <th>title_year</th>\n",
       "      <th>ACTOR_2_facebook_likes</th>\n",
       "      <th>imdb_score</th>\n",
       "      <th>gross_outlier</th>\n",
       "      <th>profit</th>\n",
       "    </tr>\n",
       "  </thead>\n",
       "  <tbody>\n",
       "    <tr>\n",
       "      <th>0</th>\n",
       "      <td>Pirates of the Caribbean: At World's End?Ã¿</td>\n",
       "      <td>302</td>\n",
       "      <td>152.0</td>\n",
       "      <td>563.0</td>\n",
       "      <td>1000</td>\n",
       "      <td>40000</td>\n",
       "      <td>309404152</td>\n",
       "      <td>471220.0</td>\n",
       "      <td>48350.0</td>\n",
       "      <td>1.5</td>\n",
       "      <td>1238</td>\n",
       "      <td>300000000</td>\n",
       "      <td>2007</td>\n",
       "      <td>5000.0</td>\n",
       "      <td>7.1</td>\n",
       "      <td>False</td>\n",
       "      <td>9404152</td>\n",
       "    </tr>\n",
       "    <tr>\n",
       "      <th>1</th>\n",
       "      <td>Spectre?Ã¿</td>\n",
       "      <td>602</td>\n",
       "      <td>148.0</td>\n",
       "      <td>20.0</td>\n",
       "      <td>161</td>\n",
       "      <td>11000</td>\n",
       "      <td>200074175</td>\n",
       "      <td>275868.0</td>\n",
       "      <td>11700.0</td>\n",
       "      <td>1.0</td>\n",
       "      <td>994</td>\n",
       "      <td>245000000</td>\n",
       "      <td>2015</td>\n",
       "      <td>393.0</td>\n",
       "      <td>6.8</td>\n",
       "      <td>False</td>\n",
       "      <td>-44925825</td>\n",
       "    </tr>\n",
       "    <tr>\n",
       "      <th>2</th>\n",
       "      <td>The Dark Knight Rises?Ã¿</td>\n",
       "      <td>813</td>\n",
       "      <td>152.0</td>\n",
       "      <td>22000.0</td>\n",
       "      <td>23000</td>\n",
       "      <td>27000</td>\n",
       "      <td>448130642</td>\n",
       "      <td>1144337.0</td>\n",
       "      <td>106759.0</td>\n",
       "      <td>1.5</td>\n",
       "      <td>2701</td>\n",
       "      <td>250000000</td>\n",
       "      <td>2012</td>\n",
       "      <td>23000.0</td>\n",
       "      <td>8.5</td>\n",
       "      <td>False</td>\n",
       "      <td>198130642</td>\n",
       "    </tr>\n",
       "    <tr>\n",
       "      <th>3</th>\n",
       "      <td>John Carter?Ã¿</td>\n",
       "      <td>462</td>\n",
       "      <td>132.0</td>\n",
       "      <td>NaN</td>\n",
       "      <td>530</td>\n",
       "      <td>640</td>\n",
       "      <td>73058679</td>\n",
       "      <td>212204.0</td>\n",
       "      <td>1873.0</td>\n",
       "      <td>1.0</td>\n",
       "      <td>738</td>\n",
       "      <td>263700000</td>\n",
       "      <td>2012</td>\n",
       "      <td>632.0</td>\n",
       "      <td>6.6</td>\n",
       "      <td>False</td>\n",
       "      <td>-190641321</td>\n",
       "    </tr>\n",
       "    <tr>\n",
       "      <th>4</th>\n",
       "      <td>Spider-Man 3?Ã¿</td>\n",
       "      <td>392</td>\n",
       "      <td>156.0</td>\n",
       "      <td>23.0</td>\n",
       "      <td>4000</td>\n",
       "      <td>24000</td>\n",
       "      <td>336530303</td>\n",
       "      <td>383056.0</td>\n",
       "      <td>46055.0</td>\n",
       "      <td>1.5</td>\n",
       "      <td>1902</td>\n",
       "      <td>258000000</td>\n",
       "      <td>2007</td>\n",
       "      <td>11000.0</td>\n",
       "      <td>6.2</td>\n",
       "      <td>False</td>\n",
       "      <td>78530303</td>\n",
       "    </tr>\n",
       "  </tbody>\n",
       "</table>\n",
       "</div>"
      ],
      "text/plain": [
       "                                   movie_title  num_critic_for_reviews  \\\n",
       "0  Pirates of the Caribbean: At World's End?Ã¿                     302   \n",
       "1                                   Spectre?Ã¿                     602   \n",
       "2                     The Dark Knight Rises?Ã¿                     813   \n",
       "3                               John Carter?Ã¿                     462   \n",
       "4                              Spider-Man 3?Ã¿                     392   \n",
       "\n",
       "   duration  DIRECTOR_facebook_likes  actor_3_facebook_likes  \\\n",
       "0     152.0                    563.0                    1000   \n",
       "1     148.0                     20.0                     161   \n",
       "2     152.0                  22000.0                   23000   \n",
       "3     132.0                      NaN                     530   \n",
       "4     156.0                     23.0                    4000   \n",
       "\n",
       "   ACTOR_1_facebook_likes      gross  num_voted_users  \\\n",
       "0                   40000  309404152         471220.0   \n",
       "1                   11000  200074175         275868.0   \n",
       "2                   27000  448130642        1144337.0   \n",
       "3                     640   73058679         212204.0   \n",
       "4                   24000  336530303         383056.0   \n",
       "\n",
       "   Cast_Total_facebook_likes  facenumber_in_poster  num_user_for_reviews  \\\n",
       "0                    48350.0                   1.5                  1238   \n",
       "1                    11700.0                   1.0                   994   \n",
       "2                   106759.0                   1.5                  2701   \n",
       "3                     1873.0                   1.0                   738   \n",
       "4                    46055.0                   1.5                  1902   \n",
       "\n",
       "      budget  title_year  ACTOR_2_facebook_likes  imdb_score  gross_outlier  \\\n",
       "0  300000000        2007                  5000.0         7.1          False   \n",
       "1  245000000        2015                   393.0         6.8          False   \n",
       "2  250000000        2012                 23000.0         8.5          False   \n",
       "3  263700000        2012                   632.0         6.6          False   \n",
       "4  258000000        2007                 11000.0         6.2          False   \n",
       "\n",
       "      profit  \n",
       "0    9404152  \n",
       "1  -44925825  \n",
       "2  198130642  \n",
       "3 -190641321  \n",
       "4   78530303  "
      ]
     },
     "execution_count": 19,
     "metadata": {},
     "output_type": "execute_result"
    }
   ],
   "source": [
    "print(\"\\nCleaned DataFrame head:\")\n",
    "df.head()"
   ]
  },
  {
   "cell_type": "markdown",
   "id": "62f4ec00-6962-45dd-aa87-f42e50f3a8eb",
   "metadata": {},
   "source": [
    "### H. Saving the Cleaned Dataset in .xlsx and .csv files"
   ]
  },
  {
   "cell_type": "code",
   "execution_count": 20,
   "id": "b075f915-6b02-4964-b6fd-b6af39010dd5",
   "metadata": {},
   "outputs": [],
   "source": [
    "df.to_excel('Cleaned_data.xlsx', index = False)"
   ]
  },
  {
   "cell_type": "code",
   "execution_count": 21,
   "id": "c9043f4a-24d6-43d0-b061-6192f81a1819",
   "metadata": {},
   "outputs": [],
   "source": [
    "df.to_csv('Cleaned_data.csv', index = False)"
   ]
  },
  {
   "cell_type": "code",
   "execution_count": null,
   "id": "3a7cf601-24cb-4e47-9aa4-5f1d1526ac49",
   "metadata": {},
   "outputs": [],
   "source": []
  }
 ],
 "metadata": {
  "kernelspec": {
   "display_name": "Python 3 (ipykernel)",
   "language": "python",
   "name": "python3"
  },
  "language_info": {
   "codemirror_mode": {
    "name": "ipython",
    "version": 3
   },
   "file_extension": ".py",
   "mimetype": "text/x-python",
   "name": "python",
   "nbconvert_exporter": "python",
   "pygments_lexer": "ipython3",
   "version": "3.12.4"
  }
 },
 "nbformat": 4,
 "nbformat_minor": 5
}
